{
 "cells": [
  {
   "cell_type": "code",
   "execution_count": 291,
   "id": "b63d90e0",
   "metadata": {},
   "outputs": [],
   "source": [
    "from bs4 import BeautifulSoup as bs\n",
    "import requests\n",
    "import selenium\n",
    "from selenium import webdriver\n",
    "from selenium.webdriver.chrome.options import Options\n",
    "import pandas as pd"
   ]
  },
  {
   "cell_type": "code",
   "execution_count": 340,
   "id": "e0c93f5b",
   "metadata": {},
   "outputs": [],
   "source": [
    "title = []\n",
    "article_text = []"
   ]
  },
  {
   "cell_type": "code",
   "execution_count": 341,
   "id": "45250343",
   "metadata": {},
   "outputs": [],
   "source": [
    "chrome_options = Options()\n",
    "chrome_options.add_argument(\"--headless\")\n",
    "driver = webdriver.Chrome(options=chrome_options)\n",
    "driver.get('https://redplanetscience.com/')\n",
    "html = driver.page_source\n",
    "soup = bs(html)"
   ]
  },
  {
   "cell_type": "code",
   "execution_count": 342,
   "id": "879e3746",
   "metadata": {},
   "outputs": [
    {
     "name": "stdout",
     "output_type": "stream",
     "text": [
      "[\"NASA's Mars Perseverance Rover Gets Its Sample Handling System\"]\n",
      "['The system will be collecting and storing Martian rock and soil. Its installation marks another milestone in the march toward the July launch period.']\n"
     ]
    }
   ],
   "source": [
    "for tag in soup.find('div',class_='content_title'):    \n",
    "    title.append(tag)\n",
    "print(title)\n",
    "for x in soup.find('div',class_='article_teaser_body'):\n",
    "    article_text.append(x)\n",
    "print(article_text)"
   ]
  },
  {
   "cell_type": "code",
   "execution_count": 308,
   "id": "7c579877",
   "metadata": {
    "scrolled": false
   },
   "outputs": [],
   "source": [
    "chrome_options = Options()\n",
    "chrome_options.add_argument(\"--headless\")\n",
    "driver = webdriver.Chrome(options=chrome_options)\n",
    "driver.get('https://spaceimages-mars.com/')\n",
    "html2 = driver.page_source\n",
    "\n",
    "soup = bs(html2)"
   ]
  },
  {
   "cell_type": "code",
   "execution_count": 309,
   "id": "3f4a24f5",
   "metadata": {},
   "outputs": [
    {
     "name": "stdout",
     "output_type": "stream",
     "text": [
      "['i', 'm', 'a', 'g', 'e', '/', 'f', 'e', 'a', 't', 'u', 'r', 'e', 'd', '/', 'm', 'a', 'r', 's', '3', '.', 'j', 'p', 'g']\n"
     ]
    }
   ],
   "source": [
    "featured_image_url = []\n",
    "for j in soup.find('a',class_='showimg fancybox-thumbs')['href']:\n",
    "    \n",
    "    featured_image_url.append(j)\n",
    "    #print(j)\n",
    "print(featured_image_url)"
   ]
  },
  {
   "cell_type": "code",
   "execution_count": 310,
   "id": "ada1ee47",
   "metadata": {},
   "outputs": [],
   "source": [
    "for x in range(len(featured_image_url)):\n",
    "    featured_image_url_cleaned = ''.join([str(n) for n in featured_image_url])"
   ]
  },
  {
   "cell_type": "code",
   "execution_count": 311,
   "id": "11428dd4",
   "metadata": {},
   "outputs": [
    {
     "data": {
      "text/plain": [
       "'image/featured/mars3.jpg'"
      ]
     },
     "execution_count": 311,
     "metadata": {},
     "output_type": "execute_result"
    }
   ],
   "source": [
    "featured_image_url_cleaned"
   ]
  },
  {
   "cell_type": "code",
   "execution_count": 313,
   "id": "6bab4315",
   "metadata": {},
   "outputs": [],
   "source": [
    "featured_image_url_final = f'https://spaceimages-mars.com/{featured_image_url_cleaned}'"
   ]
  },
  {
   "cell_type": "code",
   "execution_count": 314,
   "id": "0bec1531",
   "metadata": {},
   "outputs": [
    {
     "data": {
      "text/plain": [
       "'https://spaceimages-mars.com/image/featured/mars3.jpg'"
      ]
     },
     "execution_count": 314,
     "metadata": {},
     "output_type": "execute_result"
    }
   ],
   "source": [
    "featured_image_url_final"
   ]
  },
  {
   "cell_type": "code",
   "execution_count": 209,
   "id": "9de804c2",
   "metadata": {},
   "outputs": [
    {
     "data": {
      "text/plain": [
       "[                         0                1                2\n",
       " 0  Mars - Earth Comparison             Mars            Earth\n",
       " 1                Diameter:         6,779 km        12,742 km\n",
       " 2                    Mass:  6.39 × 10^23 kg  5.97 × 10^24 kg\n",
       " 3                   Moons:                2                1\n",
       " 4       Distance from Sun:   227,943,824 km   149,598,262 km\n",
       " 5          Length of Year:   687 Earth days      365.24 days\n",
       " 6             Temperature:     -87 to -5 °C      -88 to 58°C,\n",
       "                       0                              1\n",
       " 0  Equatorial Diameter:                       6,792 km\n",
       " 1       Polar Diameter:                       6,752 km\n",
       " 2                 Mass:  6.39 × 10^23 kg (0.11 Earths)\n",
       " 3                Moons:          2 ( Phobos & Deimos )\n",
       " 4       Orbit Distance:       227,943,824 km (1.38 AU)\n",
       " 5         Orbit Period:           687 days (1.9 years)\n",
       " 6  Surface Temperature:                   -87 to -5 °C\n",
       " 7         First Record:              2nd millennium BC\n",
       " 8          Recorded By:           Egyptian astronomers]"
      ]
     },
     "execution_count": 209,
     "metadata": {},
     "output_type": "execute_result"
    }
   ],
   "source": [
    "url = 'https://galaxyfacts-mars.com/'\n",
    "tables = pd.read_html(url)\n",
    "tables"
   ]
  },
  {
   "cell_type": "code",
   "execution_count": 215,
   "id": "117c38be",
   "metadata": {
    "scrolled": true
   },
   "outputs": [
    {
     "data": {
      "text/html": [
       "<div>\n",
       "<style scoped>\n",
       "    .dataframe tbody tr th:only-of-type {\n",
       "        vertical-align: middle;\n",
       "    }\n",
       "\n",
       "    .dataframe tbody tr th {\n",
       "        vertical-align: top;\n",
       "    }\n",
       "\n",
       "    .dataframe thead th {\n",
       "        text-align: right;\n",
       "    }\n",
       "</style>\n",
       "<table border=\"1\" class=\"dataframe\">\n",
       "  <thead>\n",
       "    <tr style=\"text-align: right;\">\n",
       "      <th></th>\n",
       "      <th>0</th>\n",
       "      <th>1</th>\n",
       "    </tr>\n",
       "  </thead>\n",
       "  <tbody>\n",
       "    <tr>\n",
       "      <th>0</th>\n",
       "      <td>Equatorial Diameter:</td>\n",
       "      <td>6,792 km</td>\n",
       "    </tr>\n",
       "    <tr>\n",
       "      <th>1</th>\n",
       "      <td>Polar Diameter:</td>\n",
       "      <td>6,752 km</td>\n",
       "    </tr>\n",
       "    <tr>\n",
       "      <th>2</th>\n",
       "      <td>Mass:</td>\n",
       "      <td>6.39 × 10^23 kg (0.11 Earths)</td>\n",
       "    </tr>\n",
       "    <tr>\n",
       "      <th>3</th>\n",
       "      <td>Moons:</td>\n",
       "      <td>2 ( Phobos &amp; Deimos )</td>\n",
       "    </tr>\n",
       "    <tr>\n",
       "      <th>4</th>\n",
       "      <td>Orbit Distance:</td>\n",
       "      <td>227,943,824 km (1.38 AU)</td>\n",
       "    </tr>\n",
       "    <tr>\n",
       "      <th>5</th>\n",
       "      <td>Orbit Period:</td>\n",
       "      <td>687 days (1.9 years)</td>\n",
       "    </tr>\n",
       "    <tr>\n",
       "      <th>6</th>\n",
       "      <td>Surface Temperature:</td>\n",
       "      <td>-87 to -5 °C</td>\n",
       "    </tr>\n",
       "    <tr>\n",
       "      <th>7</th>\n",
       "      <td>First Record:</td>\n",
       "      <td>2nd millennium BC</td>\n",
       "    </tr>\n",
       "    <tr>\n",
       "      <th>8</th>\n",
       "      <td>Recorded By:</td>\n",
       "      <td>Egyptian astronomers</td>\n",
       "    </tr>\n",
       "  </tbody>\n",
       "</table>\n",
       "</div>"
      ],
      "text/plain": [
       "                      0                              1\n",
       "0  Equatorial Diameter:                       6,792 km\n",
       "1       Polar Diameter:                       6,752 km\n",
       "2                 Mass:  6.39 × 10^23 kg (0.11 Earths)\n",
       "3                Moons:          2 ( Phobos & Deimos )\n",
       "4       Orbit Distance:       227,943,824 km (1.38 AU)\n",
       "5         Orbit Period:           687 days (1.9 years)\n",
       "6  Surface Temperature:                   -87 to -5 °C\n",
       "7         First Record:              2nd millennium BC\n",
       "8          Recorded By:           Egyptian astronomers"
      ]
     },
     "execution_count": 215,
     "metadata": {},
     "output_type": "execute_result"
    }
   ],
   "source": [
    "tables[1]"
   ]
  },
  {
   "cell_type": "code",
   "execution_count": 218,
   "id": "5d212710",
   "metadata": {},
   "outputs": [
    {
     "data": {
      "text/html": [
       "<div>\n",
       "<style scoped>\n",
       "    .dataframe tbody tr th:only-of-type {\n",
       "        vertical-align: middle;\n",
       "    }\n",
       "\n",
       "    .dataframe tbody tr th {\n",
       "        vertical-align: top;\n",
       "    }\n",
       "\n",
       "    .dataframe thead th {\n",
       "        text-align: right;\n",
       "    }\n",
       "</style>\n",
       "<table border=\"1\" class=\"dataframe\">\n",
       "  <thead>\n",
       "    <tr style=\"text-align: right;\">\n",
       "      <th></th>\n",
       "      <th>0</th>\n",
       "      <th>1</th>\n",
       "    </tr>\n",
       "  </thead>\n",
       "  <tbody>\n",
       "    <tr>\n",
       "      <th>0</th>\n",
       "      <td>Equatorial Diameter:</td>\n",
       "      <td>6,792 km</td>\n",
       "    </tr>\n",
       "    <tr>\n",
       "      <th>1</th>\n",
       "      <td>Polar Diameter:</td>\n",
       "      <td>6,752 km</td>\n",
       "    </tr>\n",
       "    <tr>\n",
       "      <th>2</th>\n",
       "      <td>Mass:</td>\n",
       "      <td>6.39 × 10^23 kg (0.11 Earths)</td>\n",
       "    </tr>\n",
       "    <tr>\n",
       "      <th>3</th>\n",
       "      <td>Moons:</td>\n",
       "      <td>2 ( Phobos &amp; Deimos )</td>\n",
       "    </tr>\n",
       "    <tr>\n",
       "      <th>4</th>\n",
       "      <td>Orbit Distance:</td>\n",
       "      <td>227,943,824 km (1.38 AU)</td>\n",
       "    </tr>\n",
       "    <tr>\n",
       "      <th>5</th>\n",
       "      <td>Orbit Period:</td>\n",
       "      <td>687 days (1.9 years)</td>\n",
       "    </tr>\n",
       "    <tr>\n",
       "      <th>6</th>\n",
       "      <td>Surface Temperature:</td>\n",
       "      <td>-87 to -5 °C</td>\n",
       "    </tr>\n",
       "    <tr>\n",
       "      <th>7</th>\n",
       "      <td>First Record:</td>\n",
       "      <td>2nd millennium BC</td>\n",
       "    </tr>\n",
       "    <tr>\n",
       "      <th>8</th>\n",
       "      <td>Recorded By:</td>\n",
       "      <td>Egyptian astronomers</td>\n",
       "    </tr>\n",
       "  </tbody>\n",
       "</table>\n",
       "</div>"
      ],
      "text/plain": [
       "                      0                              1\n",
       "0  Equatorial Diameter:                       6,792 km\n",
       "1       Polar Diameter:                       6,752 km\n",
       "2                 Mass:  6.39 × 10^23 kg (0.11 Earths)\n",
       "3                Moons:          2 ( Phobos & Deimos )\n",
       "4       Orbit Distance:       227,943,824 km (1.38 AU)\n",
       "5         Orbit Period:           687 days (1.9 years)\n",
       "6  Surface Temperature:                   -87 to -5 °C\n",
       "7         First Record:              2nd millennium BC\n",
       "8          Recorded By:           Egyptian astronomers"
      ]
     },
     "execution_count": 218,
     "metadata": {},
     "output_type": "execute_result"
    }
   ],
   "source": [
    "df = tables[1]\n",
    "df.head(10)"
   ]
  },
  {
   "cell_type": "code",
   "execution_count": 223,
   "id": "1a484285",
   "metadata": {},
   "outputs": [],
   "source": [
    "df1 = df.transpose()"
   ]
  },
  {
   "cell_type": "code",
   "execution_count": 224,
   "id": "b612b824",
   "metadata": {},
   "outputs": [
    {
     "data": {
      "text/html": [
       "<div>\n",
       "<style scoped>\n",
       "    .dataframe tbody tr th:only-of-type {\n",
       "        vertical-align: middle;\n",
       "    }\n",
       "\n",
       "    .dataframe tbody tr th {\n",
       "        vertical-align: top;\n",
       "    }\n",
       "\n",
       "    .dataframe thead th {\n",
       "        text-align: right;\n",
       "    }\n",
       "</style>\n",
       "<table border=\"1\" class=\"dataframe\">\n",
       "  <thead>\n",
       "    <tr style=\"text-align: right;\">\n",
       "      <th></th>\n",
       "      <th>0</th>\n",
       "      <th>1</th>\n",
       "      <th>2</th>\n",
       "      <th>3</th>\n",
       "      <th>4</th>\n",
       "      <th>5</th>\n",
       "      <th>6</th>\n",
       "      <th>7</th>\n",
       "      <th>8</th>\n",
       "    </tr>\n",
       "  </thead>\n",
       "  <tbody>\n",
       "    <tr>\n",
       "      <th>0</th>\n",
       "      <td>Equatorial Diameter:</td>\n",
       "      <td>Polar Diameter:</td>\n",
       "      <td>Mass:</td>\n",
       "      <td>Moons:</td>\n",
       "      <td>Orbit Distance:</td>\n",
       "      <td>Orbit Period:</td>\n",
       "      <td>Surface Temperature:</td>\n",
       "      <td>First Record:</td>\n",
       "      <td>Recorded By:</td>\n",
       "    </tr>\n",
       "    <tr>\n",
       "      <th>1</th>\n",
       "      <td>6,792 km</td>\n",
       "      <td>6,752 km</td>\n",
       "      <td>6.39 × 10^23 kg (0.11 Earths)</td>\n",
       "      <td>2 ( Phobos &amp; Deimos )</td>\n",
       "      <td>227,943,824 km (1.38 AU)</td>\n",
       "      <td>687 days (1.9 years)</td>\n",
       "      <td>-87 to -5 °C</td>\n",
       "      <td>2nd millennium BC</td>\n",
       "      <td>Egyptian astronomers</td>\n",
       "    </tr>\n",
       "  </tbody>\n",
       "</table>\n",
       "</div>"
      ],
      "text/plain": [
       "                      0                1                              2  \\\n",
       "0  Equatorial Diameter:  Polar Diameter:                          Mass:   \n",
       "1              6,792 km         6,752 km  6.39 × 10^23 kg (0.11 Earths)   \n",
       "\n",
       "                       3                         4                     5  \\\n",
       "0                 Moons:           Orbit Distance:         Orbit Period:   \n",
       "1  2 ( Phobos & Deimos )  227,943,824 km (1.38 AU)  687 days (1.9 years)   \n",
       "\n",
       "                      6                  7                     8  \n",
       "0  Surface Temperature:      First Record:          Recorded By:  \n",
       "1          -87 to -5 °C  2nd millennium BC  Egyptian astronomers  "
      ]
     },
     "execution_count": 224,
     "metadata": {},
     "output_type": "execute_result"
    }
   ],
   "source": [
    "df1"
   ]
  },
  {
   "cell_type": "code",
   "execution_count": 225,
   "id": "2132369e",
   "metadata": {},
   "outputs": [],
   "source": [
    "df1.to_html('table.html')"
   ]
  },
  {
   "cell_type": "code",
   "execution_count": 282,
   "id": "c53bef82",
   "metadata": {},
   "outputs": [],
   "source": [
    "#chrome_options = Options()\n",
    "#chrome_options.add_argument(\"--headless\")\n",
    "driver = webdriver.Chrome(options=chrome_options)\n",
    "driver.get('https://marshemispheres.com/')\n",
    "html3 = driver.page_source\n",
    "\n",
    "soup = bs(html3)"
   ]
  },
  {
   "cell_type": "code",
   "execution_count": 283,
   "id": "756be241",
   "metadata": {},
   "outputs": [],
   "source": [
    "hemisphere_image_urls = []\n",
    "from selenium.webdriver.common.keys import Keys\n",
    "from selenium.webdriver.common.by import By\n",
    "\n",
    "driver.find_element(By.XPATH, '//*[@id=\"product-section\"]/div[2]/div[1]/div/a').click()\n",
    "driver.find_element(By.XPATH, '//*[@id=\"wide-image-toggle\"]').click()\n",
    "cerberus_url = driver.find_element(By.XPATH, '//*[@id=\"wide-image\"]/img')\n",
    "cerberus_url= cerberus_url.get_attribute('src')\n",
    "\n",
    "Cerberus_image_dict={'title':\"Cerberus Hemisphere\",'img_url':cerberus_url}\n",
    "\n",
    "driver.back()\n",
    "driver.find_element(By.XPATH, '//*[@id=\"product-section\"]/div[2]/div[2]/div/a').click()\n",
    "driver.find_element(By.XPATH, '//*[@id=\"wide-image-toggle\"]').click()\n",
    "Schiaparelli_Hemisphere_url = driver.find_element(By.XPATH, '//*[@id=\"wide-image\"]/img')\n",
    "Schiaparelli_Hemisphere_url= Schiaparelli_Hemisphere_url.get_attribute('src')\n",
    "\n",
    "Schiaparelli_image_dict={'title':\"Schiaparelli Hemisphere\",'img_url':Schiaparelli_Hemisphere_url}\n",
    "driver.back()\n",
    "driver.find_element(By.XPATH, '//*[@id=\"product-section\"]/div[2]/div[3]/div/a').click()\n",
    "driver.find_element(By.XPATH, '//*[@id=\"wide-image-toggle\"]').click()\n",
    "Syrtis_Major_Hemisphere_url = driver.find_element(By.XPATH, '//*[@id=\"wide-image\"]/img')\n",
    "Syrtis_Major_Hemisphere_url= Syrtis_Major_Hemisphere_url.get_attribute('src')\n",
    "\n",
    "Syrtis_image_dict={'title':\"Syrtis Major Hemisphere\",'img_url':Syrtis_Major_Hemisphere_url}\n",
    "driver.back()\n",
    "driver.find_element(By.XPATH, '//*[@id=\"product-section\"]/div[2]/div[4]/div/a').click()\n",
    "driver.find_element(By.XPATH, '//*[@id=\"wide-image-toggle\"]').click()\n",
    "Valles_Marineris_Hemisphere_url = driver.find_element(By.XPATH, '//*[@id=\"wide-image\"]/img')\n",
    "Valles_Marineris_Hemisphere_url= Valles_Marineris_Hemisphere_url.get_attribute('src')\n",
    "\n",
    "Valles_image_dict={'title':\"Valles Marineris Hemisphere\",'img_url':Valles_Marineris_Hemisphere_url}\n",
    "hemisphere_image_urls=[Cerberus_image_dict,Schiaparelli_image_dict,Syrtis_image_dict,Valles_image_dict]"
   ]
  },
  {
   "cell_type": "code",
   "execution_count": 284,
   "id": "57364833",
   "metadata": {},
   "outputs": [
    {
     "data": {
      "text/plain": [
       "[{'title': 'Cerberus Hemisphere',\n",
       "  'img_url': 'https://marshemispheres.com/images/f5e372a36edfa389625da6d0cc25d905_cerberus_enhanced.tif_full.jpg'},\n",
       " {'title': 'Schiaparelli Hemisphere',\n",
       "  'img_url': 'https://marshemispheres.com/images/3778f7b43bbbc89d6e3cfabb3613ba93_schiaparelli_enhanced.tif_full.jpg'},\n",
       " {'title': 'Syrtis Major Hemisphere',\n",
       "  'img_url': 'https://marshemispheres.com/images/555e6403a6ddd7ba16ddb0e471cadcf7_syrtis_major_enhanced.tif_full.jpg'},\n",
       " {'title': 'Valles Marineris Hemisphere',\n",
       "  'img_url': 'https://marshemispheres.com/images/b3c7c6c9138f57b4756be9b9c43e3a48_valles_marineris_enhanced.tif_full.jpg'}]"
      ]
     },
     "execution_count": 284,
     "metadata": {},
     "output_type": "execute_result"
    }
   ],
   "source": [
    "hemisphere_image_urls"
   ]
  },
  {
   "cell_type": "code",
   "execution_count": 346,
   "id": "59d4e54a",
   "metadata": {},
   "outputs": [
    {
     "data": {
      "text/plain": [
       "{'Latest Mars News': [[\"NASA's Mars Perseverance Rover Gets Its Sample Handling System\"],\n",
       "  ['The system will be collecting and storing Martian rock and soil. Its installation marks another milestone in the march toward the July launch period.']],\n",
       " 'Featured Mars Image': 'https://spaceimages-mars.com/image/featured/mars3.jpg',\n",
       " 'Mars Facts':                       0                1                              2  \\\n",
       " 0  Equatorial Diameter:  Polar Diameter:                          Mass:   \n",
       " 1              6,792 km         6,752 km  6.39 × 10^23 kg (0.11 Earths)   \n",
       " \n",
       "                        3                         4                     5  \\\n",
       " 0                 Moons:           Orbit Distance:         Orbit Period:   \n",
       " 1  2 ( Phobos & Deimos )  227,943,824 km (1.38 AU)  687 days (1.9 years)   \n",
       " \n",
       "                       6                  7                     8  \n",
       " 0  Surface Temperature:      First Record:          Recorded By:  \n",
       " 1          -87 to -5 °C  2nd millennium BC  Egyptian astronomers  ,\n",
       " 'Mars Hemispheres': [{'title': 'Cerberus Hemisphere',\n",
       "   'img_url': 'https://marshemispheres.com/images/f5e372a36edfa389625da6d0cc25d905_cerberus_enhanced.tif_full.jpg'},\n",
       "  {'title': 'Schiaparelli Hemisphere',\n",
       "   'img_url': 'https://marshemispheres.com/images/3778f7b43bbbc89d6e3cfabb3613ba93_schiaparelli_enhanced.tif_full.jpg'},\n",
       "  {'title': 'Syrtis Major Hemisphere',\n",
       "   'img_url': 'https://marshemispheres.com/images/555e6403a6ddd7ba16ddb0e471cadcf7_syrtis_major_enhanced.tif_full.jpg'},\n",
       "  {'title': 'Valles Marineris Hemisphere',\n",
       "   'img_url': 'https://marshemispheres.com/images/b3c7c6c9138f57b4756be9b9c43e3a48_valles_marineris_enhanced.tif_full.jpg'}]}"
      ]
     },
     "execution_count": 346,
     "metadata": {},
     "output_type": "execute_result"
    }
   ],
   "source": [
    "scraped = {'Latest Mars News':[title,article_text],'Featured Mars Image':featured_image_url_final,'Mars Facts':df1,'Mars Hemispheres':hemisphere_image_urls}\n",
    "scraped"
   ]
  },
  {
   "cell_type": "code",
   "execution_count": null,
   "id": "b5a53bd1",
   "metadata": {},
   "outputs": [],
   "source": []
  },
  {
   "cell_type": "code",
   "execution_count": null,
   "id": "412c73e8",
   "metadata": {},
   "outputs": [],
   "source": []
  }
 ],
 "metadata": {
  "kernelspec": {
   "display_name": "Python 3.10.1 64-bit",
   "language": "python",
   "name": "python3"
  },
  "language_info": {
   "codemirror_mode": {
    "name": "ipython",
    "version": 3
   },
   "file_extension": ".py",
   "mimetype": "text/x-python",
   "name": "python",
   "nbconvert_exporter": "python",
   "pygments_lexer": "ipython3",
   "version": "3.10.1"
  },
  "vscode": {
   "interpreter": {
    "hash": "eef56d6852b25c0aa66050e604f3e5a8aecde17d2f4165a35681839a45f591d5"
   }
  }
 },
 "nbformat": 4,
 "nbformat_minor": 5
}
